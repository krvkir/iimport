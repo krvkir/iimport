{
 "cells": [
  {
   "cell_type": "code",
   "execution_count": null,
   "metadata": {},
   "outputs": [],
   "source": [
    "%load_ext iimport\n",
    "%iimport_enabled 1"
   ]
  },
  {
   "cell_type": "code",
   "execution_count": null,
   "metadata": {},
   "outputs": [],
   "source": [
    "kappa = 4\n",
    "\n",
    "%example\n",
    "\n",
    "alpha = 3\n",
    "beta = 1\n",
    "\n",
    "%def another_function(alpha, beta):\n",
    "res = alpha ** beta\n",
    "%return res\n",
    "\n",
    "%end_example"
   ]
  },
  {
   "cell_type": "code",
   "execution_count": null,
   "metadata": {},
   "outputs": [],
   "source": [
    "# test_define_function\n",
    "x = 1\n",
    "y = 2\n",
    "\n",
    "%def add(x, y):\n",
    "c = x + y\n",
    "%- print(c)\n",
    "%return c\n",
    "\n",
    "assert 'add' in globals()\n",
    "assert add(x, y) == x + y"
   ]
  },
  {
   "cell_type": "code",
   "execution_count": null,
   "metadata": {},
   "outputs": [],
   "source": [
    "# nested_function_definition\n",
    "\n",
    "%def outer_fn(x, y):\n",
    "z = x * y\n",
    "\n",
    "%def inner_fn(z):\n",
    "res = z - 1\n",
    "%return res\n",
    "\n",
    "res2 = 2 * res\n",
    "assert 'inner_fn' in locals()\n",
    "%return res2\n",
    "\n",
    "assert 'inner_fn' in globals()"
   ]
  },
  {
   "cell_type": "code",
   "execution_count": null,
   "metadata": {},
   "outputs": [],
   "source": [
    "# fn_in_example\n",
    "%example\n",
    "\n",
    "%def fn_in_example(x, y):\n",
    "z = x + y\n",
    "%return z\n",
    "\n",
    "%end_example"
   ]
  },
  {
   "cell_type": "code",
   "execution_count": null,
   "metadata": {},
   "outputs": [],
   "source": [
    "# named_example_is_declared\n",
    "%example x_plus_y\n",
    "z = x + y\n",
    "print(z)\n",
    "%end_example"
   ]
  },
  {
   "cell_type": "code",
   "execution_count": null,
   "metadata": {},
   "outputs": [],
   "source": [
    "# skipped_fn\n",
    "%/*\n",
    "%def skipped_fn(x, y):\n",
    "z = x + y\n",
    "%return z\n",
    "%*/"
   ]
  }
 ],
 "metadata": {
  "kernelspec": {
   "display_name": "Python 3",
   "language": "python",
   "name": "python3"
  },
  "language_info": {
   "codemirror_mode": {
    "name": "ipython",
    "version": 3
   },
   "file_extension": ".py",
   "mimetype": "text/x-python",
   "name": "python",
   "nbconvert_exporter": "python",
   "pygments_lexer": "ipython3"
  }
 },
 "nbformat": 4,
 "nbformat_minor": 2
}
